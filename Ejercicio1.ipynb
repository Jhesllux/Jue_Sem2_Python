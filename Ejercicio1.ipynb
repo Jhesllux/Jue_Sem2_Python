{
  "nbformat": 4,
  "nbformat_minor": 0,
  "metadata": {
    "colab": {
      "provenance": []
    },
    "kernelspec": {
      "name": "python3",
      "display_name": "Python 3"
    },
    "language_info": {
      "name": "python"
    }
  },
  "cells": [
    {
      "cell_type": "markdown",
      "source": [
        "**Ejercicio 1**\n",
        "Capturar la edad del usuario y predecir si es un Menor de edad( menor de 18 años), si es Adulto(entre 18 y menos de 65) y adulto mayor (entre 65 y más)."
      ],
      "metadata": {
        "id": "92vq71v3JXHj"
      }
    },
    {
      "cell_type": "code",
      "execution_count": 2,
      "metadata": {
        "colab": {
          "base_uri": "https://localhost:8080/"
        },
        "id": "-cZIYbjQINcm",
        "outputId": "b29768c1-cb68-48e9-96f3-0f2210e47ebb"
      },
      "outputs": [
        {
          "output_type": "stream",
          "name": "stdout",
          "text": [
            "Digite su Edad: -1\n",
            "Error de Edad\n"
          ]
        }
      ],
      "source": [
        "edad = int(input(\"Digite su Edad: \")) #Capturamos la edad del usuario\n",
        "edad = int(edad) #Convertirlo en Numero Entero\n",
        "#Validamos la edad para\n",
        "\n",
        "if edad > 0 and edad < 18:\n",
        "    print(\"Menor de Edad\")\n",
        "elif edad >= 18 and edad < 65:\n",
        "    print(\"Adulto\")\n",
        "elif edad >= 65:\n",
        "    print(\"Adulto Mayor\")\n",
        "else:\n",
        "    print(\"Error de Edad\")"
      ]
    },
    {
      "cell_type": "markdown",
      "source": [
        "**Ejercicio 2**\n",
        "Hacer un menu que permita elegir si deseo calcular el área de un: circulo, triangulo, rectangulo o cuadrado. Debe pedir el ingreso de los valores necesarios para realizar el calculo."
      ],
      "metadata": {
        "id": "0CHcvEtfLJAi"
      }
    },
    {
      "cell_type": "code",
      "source": [
        "mensajemenu = \"\"\"\n",
        "\n",
        "Elige una Opción para Calcular Área:\n",
        "____________________\n",
        "1. Circulo\n",
        "2. Triangulo\n",
        "3. Rectagulo\n",
        "4. Cuadrado \"\"\"\n",
        "\n",
        "print(mensajemenu)\n",
        "opcion = input(\"Digite la Opción\")\n",
        "\n",
        "match opcion:\n",
        "    case \"1\":\n",
        "        print(\"Has elegido Circulo\")\n",
        "        radio = float(input(\"Digite el Rádio del Circulo en centrimetro (cm)\"))\n",
        "        PI = 3.1416\n",
        "        area = PI * (radio ** 2)\n",
        "        print(f\"El Área del Circulo es: {area} cm2\")\n",
        "\n",
        "    case \"2\":\n",
        "        print(\"Has elegido Triangulo\")\n",
        "        base = float(input(\"Digite la Base del triangulo en centimetros (cm)\"))\n",
        "        altura = float(input(\"digite la base del triangulo en centimetros (cm)\"))\n",
        "        area = (base * altura) / 2\n",
        "        print(f\"El Área del Triangulo es: {area} cm2\")\n",
        "\n",
        "    case \"3\":\n",
        "        print(\"Has elegido Rectangulo\")\n",
        "        base = float(input(\"Digite la Base del rectangulo en centimetros (cm)\"))\n",
        "        altura = float(input(\"digite la Altura del rectangulo en centimetros (cm)\"))\n",
        "        area = base * altura\n",
        "        print(f\"El Área del Rectangulo es: {area} cm2\")\n",
        "\n",
        "    case \"4\":\n",
        "        print(\"Has elegido Cuadrado\")\n",
        "        lado = float(input(\"Digite el Lado del cuadrado en centimetros (cm)\"))\n",
        "        area = lado ** 2\n",
        "        print(f\"El Área del Cuadrado es: {area} cm2\")\n",
        "\n",
        "    case _:\n",
        "        print(\"Opción Incorrecta\")\n",
        "#"
      ],
      "metadata": {
        "colab": {
          "base_uri": "https://localhost:8080/"
        },
        "id": "FQA7GlL0LIFr",
        "outputId": "4464a825-21ea-4637-f4b1-2eeadbc8bcca"
      },
      "execution_count": 7,
      "outputs": [
        {
          "output_type": "stream",
          "name": "stdout",
          "text": [
            "\n",
            "\n",
            "Elige una Opción para Calcular Área:\n",
            "____________________\n",
            "1. Circulo\n",
            "2. Triangulo\n",
            "3. Rectagulo\n",
            "4. Cuadrado \n",
            "Digite la Opción3\n",
            "Has elegido Rectangulo\n",
            "Digite la Base del rectangulo en centimetros (cm)3\n",
            "digite la Altura del rectangulo en centimetros (cm)12\n",
            "El Área del Rectangulo es: 36.0 cm2\n"
          ]
        }
      ]
    },
    {
      "cell_type": "markdown",
      "source": [
        "EJERCICIO 3\n",
        "\n",
        "EMPRESA MENSAJERIA Tendremos una lista con las ciudades donde tenemos cobertura de entrega y según la ciudad el precio por kilo de envío varia segun las siguentes indicaciones:\n",
        "\n",
        "BOGOTA = $12.000 kg\n",
        "MEDELLIN = $11.500 Kg\n",
        "BARRANQUILLA = $15.200 Kg\n",
        "CALI = $14.300 Kg\n",
        "BUCARAMANGA = $13.900 Kg\n",
        "CÚCUTA = $17.000 Kg\n",
        "LETICIA = $28.000 kg\n",
        "CARTAGENA = $16.200 Kg\n",
        "\n",
        "Nuestro código debe calcular el costo de envío con IVA (19%) incluido. Desarrollar usando un diccionario.\n"
      ],
      "metadata": {
        "id": "c8T6B6ZcQv4c"
      }
    },
    {
      "cell_type": "code",
      "source": [
        "diccionario ={ \"BOGOTA\": 12000, \"MEDELLIN\": 11500, \"BARRANQUILLA\": 15200, \"CALI\": 14300, \"BUCARAMANGA\": 13900, \"CUCUTA\": 17000, \"LETICIA\": 28000, \"CARTAGENA\": 16200 }\n",
        "\n",
        "ciudad = input(\"Digite la Ciudad de Destino: \")\n",
        "peso = float(input(\"Digite el Peso del Paquete en Kg:\"))\n",
        "sw = 0\n",
        "\n",
        "for destino in diccionario:\n",
        "  if(destino == ciudad):\n",
        "    flete = diccionario[destino]\n",
        "    valorbase = flete * peso\n",
        "    iva = valorbase * 0.19\n",
        "    totalapagar = valorbase + iva\n",
        "    sw = 1\n",
        "    print(f\"El valor a pagar de su paquete de {peso}kg con destino a la ciudad de {ciudad} es: {totalapagar}\")\n",
        "\n",
        "if sw == 0:\n",
        "  print(\"No tenemos cobertura para su destino\")\n",
        "\n",
        "\n",
        "\n"
      ],
      "metadata": {
        "colab": {
          "base_uri": "https://localhost:8080/"
        },
        "id": "goPhY2uzS-dZ",
        "outputId": "1ed19199-70f9-4c25-acc2-2daceb04fd74"
      },
      "execution_count": 11,
      "outputs": [
        {
          "output_type": "stream",
          "name": "stdout",
          "text": [
            "Digite la Ciudad de Destino: paipa\n",
            "Digite el Peso del Paquete en Kg:30\n",
            "No tenemos cobertura para su destino\n"
          ]
        }
      ]
    }
  ]
}