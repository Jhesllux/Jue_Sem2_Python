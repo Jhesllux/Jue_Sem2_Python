{
  "nbformat": 4,
  "nbformat_minor": 0,
  "metadata": {
    "colab": {
      "provenance": [],
      "authorship_tag": "ABX9TyPYaI0zu6H3hjUhEYF/68dA",
      "include_colab_link": true
    },
    "kernelspec": {
      "name": "python3",
      "display_name": "Python 3"
    },
    "language_info": {
      "name": "python"
    }
  },
  "cells": [
    {
      "cell_type": "markdown",
      "metadata": {
        "id": "view-in-github",
        "colab_type": "text"
      },
      "source": [
        "<a href=\"https://colab.research.google.com/github/Jhesllux/Jue_sem2_python3/blob/main/Metodos_Cadenas_Python_Esteban.ipynb\" target=\"_parent\"><img src=\"https://colab.research.google.com/assets/colab-badge.svg\" alt=\"Open In Colab\"/></a>"
      ]
    },
    {
      "cell_type": "markdown",
      "source": [
        "**Métodos de análisis**"
      ],
      "metadata": {
        "id": "QALNuBGx_AAI"
      }
    },
    {
      "cell_type": "code",
      "execution_count": null,
      "metadata": {
        "id": "lH6h6GyZrrh3",
        "colab": {
          "base_uri": "https://localhost:8080/"
        },
        "outputId": "cc68b562-50fe-4087-8465-8ed5a7454743"
      },
      "outputs": [
        {
          "output_type": "execute_result",
          "data": {
            "text/plain": [
              "2"
            ]
          },
          "metadata": {},
          "execution_count": 113
        }
      ],
      "source": [
        "#count, cuenta cuantas veces está una subcadena dentro de una cadena\n",
        "x = \"Hola, soy Esteban\"\n",
        "x.count(\"o\")"
      ]
    },
    {
      "cell_type": "code",
      "source": [
        "#find busca una subcadena. Retorna la primera posición o -1 si no existe\n",
        "x = \"Hola, soy Esteban\"\n",
        "x.find(\"Esteban\")"
      ],
      "metadata": {
        "colab": {
          "base_uri": "https://localhost:8080/"
        },
        "id": "OfeCwYa5vtPz",
        "outputId": "e822086d-aae5-4263-82c0-be9378412965"
      },
      "execution_count": null,
      "outputs": [
        {
          "output_type": "execute_result",
          "data": {
            "text/plain": [
              "10"
            ]
          },
          "metadata": {},
          "execution_count": 114
        }
      ]
    },
    {
      "cell_type": "code",
      "source": [
        "#index es igual que find, pero lanza un error si no encuentra\n",
        "x = \"Hola, soy Esteban\"\n",
        "x.index(\"soy\")"
      ],
      "metadata": {
        "colab": {
          "base_uri": "https://localhost:8080/"
        },
        "id": "BK8WoIZSxSNX",
        "outputId": "4e3d9e0d-3daa-455e-90ff-4994063e0c30"
      },
      "execution_count": null,
      "outputs": [
        {
          "output_type": "execute_result",
          "data": {
            "text/plain": [
              "6"
            ]
          },
          "metadata": {},
          "execution_count": 115
        }
      ]
    },
    {
      "cell_type": "code",
      "source": [
        "# ValueError, retorna -1 cuando el argumento no existe\n",
        "x = \"Hola, soy Esteban\"\n",
        "x.find(\"soy1\")"
      ],
      "metadata": {
        "colab": {
          "base_uri": "https://localhost:8080/"
        },
        "id": "JyJaiFYtxx2q",
        "outputId": "0c269719-f5ff-4455-da2d-89a3ffa6f65c"
      },
      "execution_count": null,
      "outputs": [
        {
          "output_type": "execute_result",
          "data": {
            "text/plain": [
              "-1"
            ]
          },
          "metadata": {},
          "execution_count": 116
        }
      ]
    },
    {
      "cell_type": "code",
      "source": [
        "#rfind(), retorna la ultima aparición de la subcadena (posicion desde la ixquierda)\n",
        "x = \"Hola, soy Esteban\"\n",
        "x.rfind(\"n\")"
      ],
      "metadata": {
        "colab": {
          "base_uri": "https://localhost:8080/"
        },
        "id": "ScNGHwRwyOKu",
        "outputId": "08ecf24e-bf03-4553-f018-511ed9970221"
      },
      "execution_count": null,
      "outputs": [
        {
          "output_type": "execute_result",
          "data": {
            "text/plain": [
              "16"
            ]
          },
          "metadata": {},
          "execution_count": 117
        }
      ]
    },
    {
      "cell_type": "code",
      "source": [
        "#startswith() indica si la cadena comienza con el caracter dado\n",
        "x = \"Hola, soy Esteban\"\n",
        "x.startswith(\"H\")"
      ],
      "metadata": {
        "colab": {
          "base_uri": "https://localhost:8080/"
        },
        "id": "PjNkU8AQyw-i",
        "outputId": "10e07916-62d0-42bd-de27-c0b8af9523a4"
      },
      "execution_count": null,
      "outputs": [
        {
          "output_type": "execute_result",
          "data": {
            "text/plain": [
              "True"
            ]
          },
          "metadata": {},
          "execution_count": 118
        }
      ]
    },
    {
      "cell_type": "code",
      "source": [
        "#endswith() indica si la cadena termina con el caracter dado\n",
        "x = \"Hola, soy Esteban\"\n",
        "x.endswith(\"t\")"
      ],
      "metadata": {
        "colab": {
          "base_uri": "https://localhost:8080/"
        },
        "id": "yhbQjnxuzokU",
        "outputId": "f85ed674-2a66-4deb-ed1a-bad02915d0ad"
      },
      "execution_count": null,
      "outputs": [
        {
          "output_type": "execute_result",
          "data": {
            "text/plain": [
              "False"
            ]
          },
          "metadata": {},
          "execution_count": 119
        }
      ]
    },
    {
      "cell_type": "code",
      "source": [
        "#isdigit, verifica si todos los caracteres de la cadena son digitos\n",
        "x.isdigit()"
      ],
      "metadata": {
        "colab": {
          "base_uri": "https://localhost:8080/"
        },
        "id": "tr28n-pG1K83",
        "outputId": "91ed232a-692b-4fd8-a76e-832d5f467f94"
      },
      "execution_count": null,
      "outputs": [
        {
          "output_type": "execute_result",
          "data": {
            "text/plain": [
              "False"
            ]
          },
          "metadata": {},
          "execution_count": 120
        }
      ]
    },
    {
      "cell_type": "code",
      "source": [
        "#isnumeric verifica si todos los caracteres son numericos\n",
        "x = \"100796d\"\n",
        "x.isnumeric()"
      ],
      "metadata": {
        "colab": {
          "base_uri": "https://localhost:8080/"
        },
        "id": "4Z1x6iEJ0F1B",
        "outputId": "ee9f3b27-e327-47e8-a46f-89a74392884f"
      },
      "execution_count": null,
      "outputs": [
        {
          "output_type": "execute_result",
          "data": {
            "text/plain": [
              "False"
            ]
          },
          "metadata": {},
          "execution_count": 121
        }
      ]
    },
    {
      "cell_type": "code",
      "source": [
        "# isdecimal determina si todos los caracteres de la cadena son decimales\n",
        "x = \"100796\"\n",
        "x.isdecimal()"
      ],
      "metadata": {
        "colab": {
          "base_uri": "https://localhost:8080/"
        },
        "id": "a0W7plRt1BFv",
        "outputId": "926e891a-00e8-4e0f-c909-07de93f78deb"
      },
      "execution_count": null,
      "outputs": [
        {
          "output_type": "execute_result",
          "data": {
            "text/plain": [
              "True"
            ]
          },
          "metadata": {},
          "execution_count": 122
        }
      ]
    },
    {
      "cell_type": "code",
      "source": [
        "#isalnum verifica si es alfanumerica (letras y numeros)\n",
        "x = \"Esteban2004\"\n",
        "x.isalnum()"
      ],
      "metadata": {
        "colab": {
          "base_uri": "https://localhost:8080/"
        },
        "id": "iKLLLfui2KH_",
        "outputId": "15123ac4-a070-4465-c3a2-15f0f084d211"
      },
      "execution_count": null,
      "outputs": [
        {
          "output_type": "execute_result",
          "data": {
            "text/plain": [
              "True"
            ]
          },
          "metadata": {},
          "execution_count": 123
        }
      ]
    },
    {
      "cell_type": "code",
      "source": [
        "#isalpha determina si todos los caracteres son alfabeticos\n",
        "x = \"soto\"\n",
        "x.isalpha()"
      ],
      "metadata": {
        "colab": {
          "base_uri": "https://localhost:8080/"
        },
        "id": "Sx2yYEkS27u-",
        "outputId": "1cf490e7-c165-45be-c5c9-044d889f919f"
      },
      "execution_count": null,
      "outputs": [
        {
          "output_type": "execute_result",
          "data": {
            "text/plain": [
              "True"
            ]
          },
          "metadata": {},
          "execution_count": 124
        }
      ]
    },
    {
      "cell_type": "code",
      "source": [
        "#islower verifica si todos los caracteres son minsculas\n",
        "x = \"Soto\"\n",
        "x.islower()"
      ],
      "metadata": {
        "colab": {
          "base_uri": "https://localhost:8080/"
        },
        "id": "PUUcngbS3GIU",
        "outputId": "6854fbd6-382b-4989-c88d-285f7c28cc80"
      },
      "execution_count": null,
      "outputs": [
        {
          "output_type": "execute_result",
          "data": {
            "text/plain": [
              "False"
            ]
          },
          "metadata": {},
          "execution_count": 125
        }
      ]
    },
    {
      "cell_type": "code",
      "source": [
        "#isupper verifica si todos los caracteres son mayusculas\n",
        "x = \"SOTO\"\n",
        "x.isupper()"
      ],
      "metadata": {
        "colab": {
          "base_uri": "https://localhost:8080/"
        },
        "id": "HLWoTnac3V_l",
        "outputId": "b8372d01-cc05-477c-ed92-9e08f682d7fc"
      },
      "execution_count": null,
      "outputs": [
        {
          "output_type": "execute_result",
          "data": {
            "text/plain": [
              "True"
            ]
          },
          "metadata": {},
          "execution_count": 126
        }
      ]
    },
    {
      "cell_type": "code",
      "source": [
        "#isprintable verifica si la cadena contiene todos caracteres imprimibles\n",
        "x=\"Esteban2004%\"\n",
        "x.isprintable()"
      ],
      "metadata": {
        "colab": {
          "base_uri": "https://localhost:8080/"
        },
        "id": "PQyg8ZfP3tDg",
        "outputId": "9d93c275-233f-4404-980d-a154f86b8ff5"
      },
      "execution_count": null,
      "outputs": [
        {
          "output_type": "execute_result",
          "data": {
            "text/plain": [
              "True"
            ]
          },
          "metadata": {},
          "execution_count": 127
        }
      ]
    },
    {
      "cell_type": "code",
      "source": [
        "#isspace verifica si la cadena contiene solo espacios\n",
        "x = \"Esteban Soto - Ingeniero\"\n",
        "x.isspace()"
      ],
      "metadata": {
        "colab": {
          "base_uri": "https://localhost:8080/"
        },
        "id": "RRNIMrse4OWR",
        "outputId": "10b67e01-6bb3-4441-f98a-934affa956dc"
      },
      "execution_count": null,
      "outputs": [
        {
          "output_type": "execute_result",
          "data": {
            "text/plain": [
              "False"
            ]
          },
          "metadata": {},
          "execution_count": 128
        }
      ]
    },
    {
      "cell_type": "markdown",
      "source": [
        "**Métodos de transformación**"
      ],
      "metadata": {
        "id": "PChbnVcx-Sk-"
      }
    },
    {
      "cell_type": "code",
      "source": [
        "#capitalize cambia solo la primera letra a mayuscula\n",
        "x = \"bootcamp Explorador\"\n",
        "x.capitalize()"
      ],
      "metadata": {
        "colab": {
          "base_uri": "https://localhost:8080/",
          "height": 35
        },
        "id": "-yH3tpdg4fga",
        "outputId": "09f0c163-bd55-49b5-a552-ef460f9a452b"
      },
      "execution_count": null,
      "outputs": [
        {
          "output_type": "execute_result",
          "data": {
            "text/plain": [
              "'Bootcamp explorador'"
            ],
            "application/vnd.google.colaboratory.intrinsic+json": {
              "type": "string"
            }
          },
          "metadata": {},
          "execution_count": 129
        }
      ]
    },
    {
      "cell_type": "code",
      "source": [
        "#encode, codifica la cadena y retorna en tipo bytes\n",
        "x = \"ingenieria\"\n",
        "x.encode(\"utf-8\")"
      ],
      "metadata": {
        "colab": {
          "base_uri": "https://localhost:8080/"
        },
        "id": "vp2N5iEK5K09",
        "outputId": "5b577ea0-5073-444a-d799-3e11ded95a82"
      },
      "execution_count": null,
      "outputs": [
        {
          "output_type": "execute_result",
          "data": {
            "text/plain": [
              "b'ingenieria'"
            ]
          },
          "metadata": {},
          "execution_count": 130
        }
      ]
    },
    {
      "cell_type": "code",
      "source": [
        "#center, alinea una cadena al centro\n",
        "x = \"Ingenieria Civil\"\n",
        "x.center(40)"
      ],
      "metadata": {
        "colab": {
          "base_uri": "https://localhost:8080/",
          "height": 35
        },
        "id": "3-FAH5io4-oX",
        "outputId": "459f3819-1449-47bb-9125-3633e865bf3b"
      },
      "execution_count": null,
      "outputs": [
        {
          "output_type": "execute_result",
          "data": {
            "text/plain": [
              "'            Ingenieria Civil            '"
            ],
            "application/vnd.google.colaboratory.intrinsic+json": {
              "type": "string"
            }
          },
          "metadata": {},
          "execution_count": 131
        }
      ]
    },
    {
      "cell_type": "code",
      "source": [
        "#ljust, alinea una cadena a la izquierda\n",
        "x = \"Ingenieria Civil\"\n",
        "x.ljust(40)"
      ],
      "metadata": {
        "colab": {
          "base_uri": "https://localhost:8080/",
          "height": 35
        },
        "id": "b0ct5YXc5_of",
        "outputId": "873e2c59-62f1-4636-cac1-43203f2b31a5"
      },
      "execution_count": null,
      "outputs": [
        {
          "output_type": "execute_result",
          "data": {
            "text/plain": [
              "'Ingenieria Civil                        '"
            ],
            "application/vnd.google.colaboratory.intrinsic+json": {
              "type": "string"
            }
          },
          "metadata": {},
          "execution_count": 132
        }
      ]
    },
    {
      "cell_type": "code",
      "source": [
        "#rjust, alinea una cadena a la derecha\n",
        "x = \"Ingenieria Civil\"\n",
        "x.rjust(40)"
      ],
      "metadata": {
        "colab": {
          "base_uri": "https://localhost:8080/",
          "height": 35
        },
        "id": "FZKkafYk6Y24",
        "outputId": "e45ff7f4-6053-4b0f-b1aa-363f65d0551f"
      },
      "execution_count": null,
      "outputs": [
        {
          "output_type": "execute_result",
          "data": {
            "text/plain": [
              "'                        Ingenieria Civil'"
            ],
            "application/vnd.google.colaboratory.intrinsic+json": {
              "type": "string"
            }
          },
          "metadata": {},
          "execution_count": 133
        }
      ]
    },
    {
      "cell_type": "markdown",
      "source": [],
      "metadata": {
        "id": "oj8tyqLKy9gZ"
      }
    },
    {
      "cell_type": "code",
      "source": [
        "#lower convierte toda la cadena a minusculas\n",
        "x = \"BOOTCAMP\"\n",
        "x.lower()"
      ],
      "metadata": {
        "colab": {
          "base_uri": "https://localhost:8080/",
          "height": 35
        },
        "id": "Fri_rWnd7j-o",
        "outputId": "6ce565d5-01c6-493a-be53-8dacb229daf5"
      },
      "execution_count": null,
      "outputs": [
        {
          "output_type": "execute_result",
          "data": {
            "text/plain": [
              "'bootcamp'"
            ],
            "application/vnd.google.colaboratory.intrinsic+json": {
              "type": "string"
            }
          },
          "metadata": {},
          "execution_count": 134
        }
      ]
    },
    {
      "cell_type": "code",
      "source": [
        "#upper convierte toda la cadena a mayuscula\n",
        "x = \"bootcamp\"\n",
        "x.upper()"
      ],
      "metadata": {
        "colab": {
          "base_uri": "https://localhost:8080/",
          "height": 35
        },
        "id": "GH5G9XY671Hd",
        "outputId": "29fa840c-5354-40ea-e1fc-756c877dc681"
      },
      "execution_count": null,
      "outputs": [
        {
          "output_type": "execute_result",
          "data": {
            "text/plain": [
              "'BOOTCAMP'"
            ],
            "application/vnd.google.colaboratory.intrinsic+json": {
              "type": "string"
            }
          },
          "metadata": {},
          "execution_count": 135
        }
      ]
    },
    {
      "cell_type": "code",
      "source": [
        "#swapcase invierte mayúsculas por minúsculas y viceversa\n",
        "x = \"BootCamp Nivel Explorador\"\n",
        "x.swapcase()"
      ],
      "metadata": {
        "colab": {
          "base_uri": "https://localhost:8080/",
          "height": 35
        },
        "id": "ILqWiWb68NDr",
        "outputId": "a00e4614-b231-48a7-8598-8061bf1c663d"
      },
      "execution_count": null,
      "outputs": [
        {
          "output_type": "execute_result",
          "data": {
            "text/plain": [
              "'bOOTcAMP nIVEL eXPLORADOR'"
            ],
            "application/vnd.google.colaboratory.intrinsic+json": {
              "type": "string"
            }
          },
          "metadata": {},
          "execution_count": 136
        }
      ]
    },
    {
      "cell_type": "code",
      "source": [
        "#strip elimina espacios a los lados\n",
        "x = \"  Jhon Esteban Soto \"\n",
        "x.strip()"
      ],
      "metadata": {
        "colab": {
          "base_uri": "https://localhost:8080/",
          "height": 35
        },
        "id": "qhpAmSwH8eq9",
        "outputId": "eb8e5e7f-a622-4aeb-a0c8-2eecba2a08b3"
      },
      "execution_count": null,
      "outputs": [
        {
          "output_type": "execute_result",
          "data": {
            "text/plain": [
              "'Jhon Esteban Soto'"
            ],
            "application/vnd.google.colaboratory.intrinsic+json": {
              "type": "string"
            }
          },
          "metadata": {},
          "execution_count": 137
        }
      ]
    },
    {
      "cell_type": "code",
      "source": [
        "#lstrip elimina espacios a la izquierda\n",
        "x = \"   Jhon\"\n",
        "x.lstrip()"
      ],
      "metadata": {
        "colab": {
          "base_uri": "https://localhost:8080/",
          "height": 35
        },
        "id": "0Gc4KLMC8xor",
        "outputId": "ea9491b0-866e-4917-ca94-e315a65fe0e4"
      },
      "execution_count": null,
      "outputs": [
        {
          "output_type": "execute_result",
          "data": {
            "text/plain": [
              "'Jhon'"
            ],
            "application/vnd.google.colaboratory.intrinsic+json": {
              "type": "string"
            }
          },
          "metadata": {},
          "execution_count": 138
        }
      ]
    },
    {
      "cell_type": "code",
      "source": [
        "#rstrip elimina espacios a la derecha\n",
        "x = \"Jhon   \"\n",
        "x.rstrip()"
      ],
      "metadata": {
        "colab": {
          "base_uri": "https://localhost:8080/",
          "height": 35
        },
        "id": "IDKlpBRC87To",
        "outputId": "37e4c017-e5ba-4ecb-da99-96d6ddc6be2b"
      },
      "execution_count": null,
      "outputs": [
        {
          "output_type": "execute_result",
          "data": {
            "text/plain": [
              "'Jhon'"
            ],
            "application/vnd.google.colaboratory.intrinsic+json": {
              "type": "string"
            }
          },
          "metadata": {},
          "execution_count": 139
        }
      ]
    },
    {
      "cell_type": "code",
      "source": [
        "#replace reemplaza subcadenas\n",
        "x = \"Bootcamp Nivel Explorador\"\n",
        "x.replace(\"Explorador\", \"Intermedio\")"
      ],
      "metadata": {
        "colab": {
          "base_uri": "https://localhost:8080/",
          "height": 35
        },
        "id": "UXN3aeSD9qCS",
        "outputId": "c2711718-6da4-4dd4-eea7-c2060b3b8ece"
      },
      "execution_count": null,
      "outputs": [
        {
          "output_type": "execute_result",
          "data": {
            "text/plain": [
              "'Bootcamp Nivel Intermedio'"
            ],
            "application/vnd.google.colaboratory.intrinsic+json": {
              "type": "string"
            }
          },
          "metadata": {},
          "execution_count": 140
        }
      ]
    },
    {
      "cell_type": "markdown",
      "source": [
        "**Métodos de separación y unión**"
      ],
      "metadata": {
        "id": "WscacgfL_JE0"
      }
    },
    {
      "cell_type": "code",
      "source": [
        "#split divide una cadena en una lista de palabras.\n",
        "x = \"Estudiar es para todos\"\n",
        "x.split()"
      ],
      "metadata": {
        "colab": {
          "base_uri": "https://localhost:8080/"
        },
        "id": "em36cjqR_MIi",
        "outputId": "d0d71ad2-a09e-4605-c75b-172b7f9658d7"
      },
      "execution_count": null,
      "outputs": [
        {
          "output_type": "execute_result",
          "data": {
            "text/plain": [
              "['Estudiar', 'es', 'para', 'todos']"
            ]
          },
          "metadata": {},
          "execution_count": 141
        }
      ]
    },
    {
      "cell_type": "code",
      "source": [
        "#splitlines separa en una lista únicamente según saltos de línea\n",
        "x = \"Hola, soy\\nEsteban Soto\\n y \\ntengo 21 años\"\n",
        "x.splitlines()"
      ],
      "metadata": {
        "colab": {
          "base_uri": "https://localhost:8080/"
        },
        "id": "Uv0djjlz_lN8",
        "outputId": "a4945070-8d93-4431-8ac2-42baa5c9bcea"
      },
      "execution_count": null,
      "outputs": [
        {
          "output_type": "execute_result",
          "data": {
            "text/plain": [
              "['Hola, soy', 'Esteban Soto', ' y ', 'tengo 21 años']"
            ]
          },
          "metadata": {},
          "execution_count": 142
        }
      ]
    },
    {
      "cell_type": "code",
      "source": [
        "#partition divide la cadena en una tupla con separador.\n",
        "x = \"nombre: Jhon Esteban\"\n",
        "x.partition(\":\")"
      ],
      "metadata": {
        "colab": {
          "base_uri": "https://localhost:8080/"
        },
        "id": "3u6nGSdLAtlW",
        "outputId": "c78140b7-316c-4d68-9bed-6aefdc1ef694"
      },
      "execution_count": null,
      "outputs": [
        {
          "output_type": "execute_result",
          "data": {
            "text/plain": [
              "('nombre', ':', ' Jhon Esteban')"
            ]
          },
          "metadata": {},
          "execution_count": 143
        }
      ]
    },
    {
      "cell_type": "code",
      "source": [
        "#rpartition es igual que partition pero desde la derecha.\n",
        "x = \"UdeA/Estudiante/Esteban\"\n",
        "x.rpartition(\"/\")"
      ],
      "metadata": {
        "colab": {
          "base_uri": "https://localhost:8080/"
        },
        "id": "DqfSEkg_BUh8",
        "outputId": "a1c14779-4227-4636-ab1e-44cec7e1a629"
      },
      "execution_count": null,
      "outputs": [
        {
          "output_type": "execute_result",
          "data": {
            "text/plain": [
              "('UdeA/Estudiante', '/', 'Esteban')"
            ]
          },
          "metadata": {},
          "execution_count": 144
        }
      ]
    },
    {
      "cell_type": "code",
      "source": [
        "#join une elementos con separador.\n",
        "lista = [\"La UdeA\", \"la mejor universidad\"]\n",
        "\" - \".join(lista)"
      ],
      "metadata": {
        "colab": {
          "base_uri": "https://localhost:8080/",
          "height": 35
        },
        "id": "dAczWQPfCjqR",
        "outputId": "4e35ade1-864b-4135-e9bd-6754ffc263f6"
      },
      "execution_count": null,
      "outputs": [
        {
          "output_type": "execute_result",
          "data": {
            "text/plain": [
              "'La UdeA - la mejor universidad'"
            ],
            "application/vnd.google.colaboratory.intrinsic+json": {
              "type": "string"
            }
          },
          "metadata": {},
          "execution_count": 145
        }
      ]
    }
  ]
}